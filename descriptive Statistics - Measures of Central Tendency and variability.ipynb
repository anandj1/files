{
 "cells": [
  {
   "cell_type": "code",
   "execution_count": 14,
   "id": "b37654dd",
   "metadata": {
    "executionInfo": {
     "elapsed": 402,
     "status": "ok",
     "timestamp": 1713883545228,
     "user": {
      "displayName": "2247_VAIDEHI PATE",
      "userId": "00585377315569362725"
     },
     "user_tz": -330
    },
    "id": "b37654dd"
   },
   "outputs": [],
   "source": [
    "import pandas as pd\n",
    "import numpy as np\n",
    "from statistics import mean, median, mode"
   ]
  },
  {
   "cell_type": "code",
   "execution_count": 15,
   "id": "58a0d812",
   "metadata": {
    "executionInfo": {
     "elapsed": 950,
     "status": "ok",
     "timestamp": 1713883546709,
     "user": {
      "displayName": "2247_VAIDEHI PATE",
      "userId": "00585377315569362725"
     },
     "user_tz": -330
    },
    "id": "58a0d812"
   },
   "outputs": [],
   "source": [
    "\n",
    "df = pd.read_csv(\"csv files/iris.csv\")"
   ]
  },
  {
   "cell_type": "code",
   "execution_count": 16,
   "id": "c0d187b8",
   "metadata": {
    "colab": {
     "base_uri": "https://localhost:8080/",
     "height": 206
    },
    "executionInfo": {
     "elapsed": 88,
     "status": "ok",
     "timestamp": 1713883546735,
     "user": {
      "displayName": "2247_VAIDEHI PATE",
      "userId": "00585377315569362725"
     },
     "user_tz": -330
    },
    "id": "c0d187b8",
    "outputId": "061fd18a-64f0-4f2e-8ecb-21c0245e52cf"
   },
   "outputs": [
    {
     "data": {
      "text/html": [
       "<div>\n",
       "<style scoped>\n",
       "    .dataframe tbody tr th:only-of-type {\n",
       "        vertical-align: middle;\n",
       "    }\n",
       "\n",
       "    .dataframe tbody tr th {\n",
       "        vertical-align: top;\n",
       "    }\n",
       "\n",
       "    .dataframe thead th {\n",
       "        text-align: right;\n",
       "    }\n",
       "</style>\n",
       "<table border=\"1\" class=\"dataframe\">\n",
       "  <thead>\n",
       "    <tr style=\"text-align: right;\">\n",
       "      <th></th>\n",
       "      <th>sepal_length</th>\n",
       "      <th>sepal_width</th>\n",
       "      <th>petal_length</th>\n",
       "      <th>petal_width</th>\n",
       "      <th>species</th>\n",
       "    </tr>\n",
       "  </thead>\n",
       "  <tbody>\n",
       "    <tr>\n",
       "      <th>0</th>\n",
       "      <td>5.1</td>\n",
       "      <td>3.5</td>\n",
       "      <td>1.4</td>\n",
       "      <td>0.2</td>\n",
       "      <td>setosa</td>\n",
       "    </tr>\n",
       "    <tr>\n",
       "      <th>1</th>\n",
       "      <td>4.9</td>\n",
       "      <td>3.0</td>\n",
       "      <td>1.4</td>\n",
       "      <td>0.2</td>\n",
       "      <td>setosa</td>\n",
       "    </tr>\n",
       "    <tr>\n",
       "      <th>2</th>\n",
       "      <td>4.7</td>\n",
       "      <td>3.2</td>\n",
       "      <td>1.3</td>\n",
       "      <td>0.2</td>\n",
       "      <td>setosa</td>\n",
       "    </tr>\n",
       "    <tr>\n",
       "      <th>3</th>\n",
       "      <td>4.6</td>\n",
       "      <td>3.1</td>\n",
       "      <td>1.5</td>\n",
       "      <td>0.2</td>\n",
       "      <td>setosa</td>\n",
       "    </tr>\n",
       "    <tr>\n",
       "      <th>4</th>\n",
       "      <td>5.0</td>\n",
       "      <td>3.6</td>\n",
       "      <td>1.4</td>\n",
       "      <td>0.2</td>\n",
       "      <td>setosa</td>\n",
       "    </tr>\n",
       "  </tbody>\n",
       "</table>\n",
       "</div>"
      ],
      "text/plain": [
       "   sepal_length  sepal_width  petal_length  petal_width species\n",
       "0           5.1          3.5           1.4          0.2  setosa\n",
       "1           4.9          3.0           1.4          0.2  setosa\n",
       "2           4.7          3.2           1.3          0.2  setosa\n",
       "3           4.6          3.1           1.5          0.2  setosa\n",
       "4           5.0          3.6           1.4          0.2  setosa"
      ]
     },
     "execution_count": 16,
     "metadata": {},
     "output_type": "execute_result"
    }
   ],
   "source": [
    "df.head()"
   ]
  },
  {
   "cell_type": "code",
   "execution_count": 18,
   "id": "5349b608",
   "metadata": {
    "colab": {
     "base_uri": "https://localhost:8080/"
    },
    "executionInfo": {
     "elapsed": 445,
     "status": "ok",
     "timestamp": 1713884008506,
     "user": {
      "displayName": "2247_VAIDEHI PATE",
      "userId": "00585377315569362725"
     },
     "user_tz": -330
    },
    "id": "5349b608",
    "outputId": "51303b15-0ab5-4970-d868-b3166c5b520e"
   },
   "outputs": [
    {
     "name": "stdout",
     "output_type": "stream",
     "text": [
      "Mean values:\n",
      "sepal_length    5.843333\n",
      "sepal_width     3.057333\n",
      "petal_length    3.758000\n",
      "petal_width     1.199333\n",
      "species              NaN\n",
      "dtype: float64\n"
     ]
    }
   ],
   "source": [
    "\n",
    "# Replace non-numeric values with NaN\n",
    "iris_numeric = df.apply(pd.to_numeric, errors='coerce')\n",
    "\n",
    "# Calculate the mean of each numerical column\n",
    "mean_values = iris_numeric.mean()\n",
    "\n",
    "print(\"Mean values:\")\n",
    "print(mean_values)\n"
   ]
  },
  {
   "cell_type": "code",
   "execution_count": null,
   "id": "e617177f",
   "metadata": {
    "colab": {
     "base_uri": "https://localhost:8080/"
    },
    "executionInfo": {
     "elapsed": 698,
     "status": "ok",
     "timestamp": 1713884018022,
     "user": {
      "displayName": "2247_VAIDEHI PATE",
      "userId": "00585377315569362725"
     },
     "user_tz": -330
    },
    "id": "e617177f",
    "outputId": "492c2812-4de4-4833-9db0-e240b9efd7a1"
   },
   "outputs": [],
   "source": [
    "# Median\n",
    "median_value = np.median(df['sepal_length'])\n",
    "print(f\"Median: {median_value}\")"
   ]
  },
  {
   "cell_type": "code",
   "execution_count": null,
   "id": "568ca87b",
   "metadata": {
    "colab": {
     "base_uri": "https://localhost:8080/"
    },
    "executionInfo": {
     "elapsed": 11,
     "status": "ok",
     "timestamp": 1713884020615,
     "user": {
      "displayName": "2247_VAIDEHI PATE",
      "userId": "00585377315569362725"
     },
     "user_tz": -330
    },
    "id": "568ca87b",
    "outputId": "e6eaffa3-d891-4092-a3c9-d3d6f6ffd580"
   },
   "outputs": [],
   "source": [
    "try:\n",
    "    mode_value = mode(df['sepal_length'])\n",
    "    print(f\"Mode: {mode_value}\")\n",
    "except StatisticsError:\n",
    "    print(\"No unique mode\")"
   ]
  },
  {
   "cell_type": "code",
   "execution_count": null,
   "id": "z0I0_UlotkIQ",
   "metadata": {
    "colab": {
     "base_uri": "https://localhost:8080/"
    },
    "executionInfo": {
     "elapsed": 15,
     "status": "ok",
     "timestamp": 1713884022200,
     "user": {
      "displayName": "2247_VAIDEHI PATE",
      "userId": "00585377315569362725"
     },
     "user_tz": -330
    },
    "id": "z0I0_UlotkIQ",
    "outputId": "01c9b356-e853-46aa-f0ee-472ac7ea848d"
   },
   "outputs": [],
   "source": [
    "#max\n",
    "\n",
    "maxm = np.max(df['sepal_length'])\n",
    "print(maxm)"
   ]
  },
  {
   "cell_type": "code",
   "execution_count": null,
   "id": "IM0RkPvHtz_f",
   "metadata": {
    "colab": {
     "base_uri": "https://localhost:8080/"
    },
    "executionInfo": {
     "elapsed": 22,
     "status": "ok",
     "timestamp": 1713884023673,
     "user": {
      "displayName": "2247_VAIDEHI PATE",
      "userId": "00585377315569362725"
     },
     "user_tz": -330
    },
    "id": "IM0RkPvHtz_f",
    "outputId": "a605e3ba-f562-44e0-a618-c53c3db3f388"
   },
   "outputs": [],
   "source": [
    "#min\n",
    "\n",
    "minm = np.min(df['sepal_length'])\n",
    "print(minm)"
   ]
  },
  {
   "cell_type": "code",
   "execution_count": null,
   "id": "7fbea71e",
   "metadata": {
    "colab": {
     "base_uri": "https://localhost:8080/"
    },
    "executionInfo": {
     "elapsed": 23,
     "status": "ok",
     "timestamp": 1713884025233,
     "user": {
      "displayName": "2247_VAIDEHI PATE",
      "userId": "00585377315569362725"
     },
     "user_tz": -330
    },
    "id": "7fbea71e",
    "outputId": "d81f311b-91c3-4626-b6df-39e288df640e"
   },
   "outputs": [],
   "source": [
    "print(df.mode())"
   ]
  },
  {
   "cell_type": "code",
   "execution_count": null,
   "id": "dd54fd59",
   "metadata": {
    "colab": {
     "base_uri": "https://localhost:8080/"
    },
    "executionInfo": {
     "elapsed": 15,
     "status": "ok",
     "timestamp": 1713884027001,
     "user": {
      "displayName": "2247_VAIDEHI PATE",
      "userId": "00585377315569362725"
     },
     "user_tz": -330
    },
    "id": "dd54fd59",
    "outputId": "361660af-294d-435e-8480-79e4bfd987ef"
   },
   "outputs": [],
   "source": [
    "# Mid-Range\n",
    "mid_range = (max(df['sepal_length']) + min(df['sepal_length'])) / 2\n",
    "print(f\"Mid-Range: {mid_range}\")"
   ]
  },
  {
   "cell_type": "code",
   "execution_count": null,
   "id": "599f5090",
   "metadata": {
    "executionInfo": {
     "elapsed": 7,
     "status": "ok",
     "timestamp": 1713884247859,
     "user": {
      "displayName": "2247_VAIDEHI PATE",
      "userId": "00585377315569362725"
     },
     "user_tz": -330
    },
    "id": "599f5090"
   },
   "outputs": [],
   "source": [
    "\n",
    "\n",
    "mean_sepal_length = df['sepal_length'].mean()\n",
    "df_numeric = df[pd.to_numeric(df['sepal_length'], errors='coerce').notnull()]\n",
    "df_numeric['sepal_length'] = pd.to_numeric(df_numeric['sepal_length'])\n",
    "mean_sepal_length_numeric = df_numeric['sepal_length'].mean()\n"
   ]
  },
  {
   "cell_type": "code",
   "execution_count": null,
   "id": "3482fd97",
   "metadata": {
    "colab": {
     "base_uri": "https://localhost:8080/",
     "height": 1000
    },
    "executionInfo": {
     "elapsed": 35,
     "status": "ok",
     "timestamp": 1713884251376,
     "user": {
      "displayName": "2247_VAIDEHI PATE",
      "userId": "00585377315569362725"
     },
     "user_tz": -330
    },
    "id": "3482fd97",
    "outputId": "da561bb7-a10f-4adb-bb89-441dd89478bf"
   },
   "outputs": [],
   "source": [
    "df.groupby(['sepal_length']).count()"
   ]
  },
  {
   "cell_type": "code",
   "execution_count": null,
   "id": "bd077db5",
   "metadata": {
    "executionInfo": {
     "elapsed": 402,
     "status": "ok",
     "timestamp": 1713884255506,
     "user": {
      "displayName": "2247_VAIDEHI PATE",
      "userId": "00585377315569362725"
     },
     "user_tz": -330
    },
    "id": "bd077db5"
   },
   "outputs": [],
   "source": [
    "#to understand these concepts below\n",
    "\n",
    "# https://www.scribbr.com/statistics/quartiles-quantiles/"
   ]
  },
  {
   "cell_type": "code",
   "execution_count": null,
   "id": "e9747532",
   "metadata": {
    "colab": {
     "base_uri": "https://localhost:8080/"
    },
    "executionInfo": {
     "elapsed": 15,
     "status": "ok",
     "timestamp": 1713884257589,
     "user": {
      "displayName": "2247_VAIDEHI PATE",
      "userId": "00585377315569362725"
     },
     "user_tz": -330
    },
    "id": "e9747532",
    "outputId": "6fb3aba1-1b35-4833-e485-2688b5f3aa91"
   },
   "outputs": [],
   "source": [
    "\n",
    "# calculate the quartiles (25th, 50th and 75th percentiles)\n",
    "quartiles = df['sepal_length'].quantile([0.25, 0.5, 0.75])\n",
    "print(\"Quartiles:\", quartiles)\n",
    "print(\"\\n\")\n",
    "\n",
    "# calculate the deciles (10th, 20th, ..., 90th percentiles)\n",
    "deciles = df['sepal_length'].quantile(np.arange(0.1, 1, 0.1))\n",
    "print(\"Deciles:\", deciles)\n",
    "print(\"\\n\")\n",
    "\n",
    "\n",
    "# calculate the percentiles (1st, 2nd, ..., 99th percentiles)\n",
    "percentiles = df['sepal_length'].quantile(np.arange(0.01, 1, 0.01))\n",
    "print(\"Percentiles:\", percentiles)\n",
    "print(\"\\n\")\n"
   ]
  },
  {
   "cell_type": "code",
   "execution_count": 20,
   "id": "b4b27cc5",
   "metadata": {
    "colab": {
     "base_uri": "https://localhost:8080/"
    },
    "executionInfo": {
     "elapsed": 442,
     "status": "ok",
     "timestamp": 1713884630059,
     "user": {
      "displayName": "2247_VAIDEHI PATE",
      "userId": "00585377315569362725"
     },
     "user_tz": -330
    },
    "id": "b4b27cc5",
    "outputId": "88e75e56-b46f-41d9-a8a9-d2f005ac9cc7"
   },
   "outputs": [
    {
     "name": "stdout",
     "output_type": "stream",
     "text": [
      "Variance:\n",
      "sepal_length    0.685694\n",
      "sepal_width     0.189979\n",
      "petal_length    3.116278\n",
      "petal_width     0.581006\n",
      "species              NaN\n",
      "dtype: float64\n",
      "\n",
      "Standard Deviation:\n",
      "sepal_length    0.828066\n",
      "sepal_width     0.435866\n",
      "petal_length    1.765298\n",
      "petal_width     0.762238\n",
      "species              NaN\n",
      "dtype: float64\n"
     ]
    }
   ],
   "source": [
    "#using builtin function\n",
    "\n",
    "\n",
    "# Assuming df is your DataFrame\n",
    "# Convert all columns to numeric (errors='coerce' will convert non-numeric values to NaN)\n",
    "df_numeric = df.apply(pd.to_numeric, errors='coerce')\n",
    "\n",
    "# Calculate variance and standard deviation\n",
    "variance = df_numeric.var()\n",
    "std_deviation = df_numeric.std()\n",
    "\n",
    "print(\"Variance:\")\n",
    "print(variance)\n",
    "print(\"\\nStandard Deviation:\")\n",
    "print(std_deviation)\n"
   ]
  },
  {
   "cell_type": "code",
   "execution_count": 22,
   "id": "l9rh7VJwskEo",
   "metadata": {
    "colab": {
     "base_uri": "https://localhost:8080/"
    },
    "executionInfo": {
     "elapsed": 19,
     "status": "ok",
     "timestamp": 1713884640382,
     "user": {
      "displayName": "2247_VAIDEHI PATE",
      "userId": "00585377315569362725"
     },
     "user_tz": -330
    },
    "id": "l9rh7VJwskEo",
    "outputId": "6b42e4a5-9ba5-44d6-99b3-f5445ddc5b8c"
   },
   "outputs": [
    {
     "name": "stdout",
     "output_type": "stream",
     "text": [
      "mean :  5.843333333333335\n"
     ]
    }
   ],
   "source": [
    "# Calculating mean without using libraries\n",
    "math_s = df['sepal_length']\n",
    "def my_mean(math_s):\n",
    "    return sum(math_s) / len(math_s)\n",
    "print(\"mean : \",my_mean(math_s))"
   ]
  },
  {
   "cell_type": "code",
   "execution_count": 24,
   "id": "wCDOiljjxRNr",
   "metadata": {
    "colab": {
     "base_uri": "https://localhost:8080/"
    },
    "executionInfo": {
     "elapsed": 14,
     "status": "ok",
     "timestamp": 1713884641965,
     "user": {
      "displayName": "2247_VAIDEHI PATE",
      "userId": "00585377315569362725"
     },
     "user_tz": -330
    },
    "id": "wCDOiljjxRNr",
    "outputId": "bbd414d1-c27d-4817-97bd-9954485c0a3d"
   },
   "outputs": [
    {
     "name": "stdout",
     "output_type": "stream",
     "text": [
      "median :  5.8\n"
     ]
    }
   ],
   "source": [
    "# Calculating median without using libraries\n",
    "def my_median(math_s):\n",
    "    n = len(math_s)\n",
    "    index = n // 2\n",
    "    # Sample with an odd number of observations\n",
    "    if n % 2:\n",
    "        return sorted(math_s)[index]\n",
    "    # Sample with an even number of observations\n",
    "    return sum(sorted(math_s)[index - 1:index + 1]) / 2\n",
    "print(\"median : \",my_median(math_s))"
   ]
  },
  {
   "cell_type": "code",
   "execution_count": 25,
   "id": "w8xUjOFdxWdB",
   "metadata": {
    "colab": {
     "base_uri": "https://localhost:8080/"
    },
    "executionInfo": {
     "elapsed": 11,
     "status": "ok",
     "timestamp": 1713884643696,
     "user": {
      "displayName": "2247_VAIDEHI PATE",
      "userId": "00585377315569362725"
     },
     "user_tz": -330
    },
    "id": "w8xUjOFdxWdB",
    "outputId": "a0b57f16-5bbc-4696-e61a-b5f1ea0547b4"
   },
   "outputs": [
    {
     "name": "stdout",
     "output_type": "stream",
     "text": [
      "Mode :  [5.0]\n"
     ]
    }
   ],
   "source": [
    "# Calculating mode without using libraries\n",
    "from collections import Counter\n",
    "def my_mode(math_s):\n",
    "    c = Counter(math_s)\n",
    "    return [k for k, v in c.items() if v == c.most_common(1)[0][1]]\n",
    "print(\"Mode : \",my_mode(math_s))"
   ]
  },
  {
   "cell_type": "code",
   "execution_count": 26,
   "id": "VfI1tdVjrnsL",
   "metadata": {
    "colab": {
     "base_uri": "https://localhost:8080/"
    },
    "executionInfo": {
     "elapsed": 13,
     "status": "ok",
     "timestamp": 1713884645425,
     "user": {
      "displayName": "2247_VAIDEHI PATE",
      "userId": "00585377315569362725"
     },
     "user_tz": -330
    },
    "id": "VfI1tdVjrnsL",
    "outputId": "762cf1c3-a05f-4612-dd76-151db430888a"
   },
   "outputs": [
    {
     "name": "stdout",
     "output_type": "stream",
     "text": [
      "Standard Deviation : 0.8253012917851409\n"
     ]
    }
   ],
   "source": [
    "# Calculating Standard without using libraries\n",
    "\n",
    "import math\n",
    "\n",
    "#calculating variance\n",
    "def variance(math_s):\n",
    "  n = len(math_s)\n",
    "  my_mean = sum(math_s) / n\n",
    "  deviations = [(x - my_mean) ** 2 for x in math_s]\n",
    "  variance = sum(deviations) / n\n",
    "  return variance\n",
    "\n",
    "#calculating standard deviation\n",
    "def stdev(math_s):\n",
    "  var = variance(math_s)\n",
    "  std_dev = math.sqrt(var)\n",
    "  return std_dev\n",
    "\n",
    "print(\"Standard Deviation : %s\"% (stdev(math_s)))"
   ]
  },
  {
   "cell_type": "code",
   "execution_count": null,
   "id": "SejGz1qpfEu5",
   "metadata": {
    "id": "SejGz1qpfEu5"
   },
   "outputs": [],
   "source": []
  }
 ],
 "metadata": {
  "colab": {
   "provenance": []
  },
  "kernelspec": {
   "display_name": "Python 3 (ipykernel)",
   "language": "python",
   "name": "python3"
  },
  "language_info": {
   "codemirror_mode": {
    "name": "ipython",
    "version": 3
   },
   "file_extension": ".py",
   "mimetype": "text/x-python",
   "name": "python",
   "nbconvert_exporter": "python",
   "pygments_lexer": "ipython3",
   "version": "3.10.6"
  }
 },
 "nbformat": 4,
 "nbformat_minor": 5
}
